{
 "cells": [
  {
   "cell_type": "markdown",
   "metadata": {},
   "source": [
    "# Setup"
   ]
  },
  {
   "cell_type": "code",
   "execution_count": 1,
   "metadata": {},
   "outputs": [
    {
     "name": "stderr",
     "output_type": "stream",
     "text": [
      "/Users/pf-admin/Desktop/Notebook/.venv/lib/python3.12/site-packages/tqdm/auto.py:21: TqdmWarning: IProgress not found. Please update jupyter and ipywidgets. See https://ipywidgets.readthedocs.io/en/stable/user_install.html\n",
      "  from .autonotebook import tqdm as notebook_tqdm\n"
     ]
    }
   ],
   "source": [
    "from lib import postflop_equity_monte_carlo, postflop_equity_monte_carlo_parallel\n",
    "import multiprocessing"
   ]
  },
  {
   "cell_type": "markdown",
   "metadata": {},
   "source": [
    "# Simulation"
   ]
  },
  {
   "cell_type": "code",
   "execution_count": null,
   "metadata": {},
   "outputs": [],
   "source": [
    "hero_hand = \"Ks5s\"\n",
    "board = \"6hKh9s\""
   ]
  },
  {
   "cell_type": "code",
   "execution_count": 3,
   "metadata": {},
   "outputs": [
    {
     "name": "stderr",
     "output_type": "stream",
     "text": [
      "Thread   4/8 | Postflop Monte-Carlo Simulation Progress: 100%|██████████| 10000/10000 [00:22<00:00, 440.28it/s]\n",
      "Thread   6/8 | Postflop Monte-Carlo Simulation Progress: 100%|██████████| 10000/10000 [00:22<00:00, 440.45it/s]\n",
      "Thread   3/8 | Postflop Monte-Carlo Simulation Progress: 100%|██████████| 10000/10000 [00:22<00:00, 439.15it/s]\n",
      "Thread   2/8 | Postflop Monte-Carlo Simulation Progress: 100%|██████████| 10000/10000 [00:22<00:00, 438.55it/s]\n",
      "Thread   7/8 | Postflop Monte-Carlo Simulation Progress: 100%|██████████| 10000/10000 [00:22<00:00, 438.39it/s]\n",
      "Thread   0/8 | Postflop Monte-Carlo Simulation Progress: 100%|██████████| 10000/10000 [00:22<00:00, 438.32it/s]\n",
      "Thread   5/8 | Postflop Monte-Carlo Simulation Progress: 100%|██████████| 10000/10000 [00:22<00:00, 438.19it/s]\n",
      "Thread   1/8 | Postflop Monte-Carlo Simulation Progress: 100%|██████████| 10000/10000 [00:22<00:00, 437.41it/s]\n",
      "Retrieving results from all cores: 100%|██████████| 8/8 [00:23<00:00,  2.95s/it]\n",
      "Combining results from all cores : 100%|██████████| 8/8 [00:00<00:00, 198546.93it/s]\n"
     ]
    }
   ],
   "source": [
    "num_cores = multiprocessing.cpu_count()  \n",
    "num_iterations_per_core = 10_000  \n",
    "equity_dict = postflop_equity_monte_carlo_parallel(hero_hand, board, num_iterations_per_core, num_cores)"
   ]
  },
  {
   "cell_type": "code",
   "execution_count": 4,
   "metadata": {},
   "outputs": [
    {
     "data": {
      "text/plain": [
       "{'n': 73054, 'equity': 0.4988912311440852}"
      ]
     },
     "execution_count": 4,
     "metadata": {},
     "output_type": "execute_result"
    }
   ],
   "source": [
    "equity_dict[\"Jh9h\"]"
   ]
  }
 ],
 "metadata": {
  "kernelspec": {
   "display_name": ".venv",
   "language": "python",
   "name": "python3"
  },
  "language_info": {
   "codemirror_mode": {
    "name": "ipython",
    "version": 3
   },
   "file_extension": ".py",
   "mimetype": "text/x-python",
   "name": "python",
   "nbconvert_exporter": "python",
   "pygments_lexer": "ipython3",
   "version": "3.12.9"
  }
 },
 "nbformat": 4,
 "nbformat_minor": 2
}
