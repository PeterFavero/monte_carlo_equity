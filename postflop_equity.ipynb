{
 "cells": [
  {
   "cell_type": "markdown",
   "metadata": {},
   "source": [
    "# Setup"
   ]
  },
  {
   "cell_type": "code",
   "execution_count": 1,
   "metadata": {},
   "outputs": [
    {
     "name": "stderr",
     "output_type": "stream",
     "text": [
      "/Users/2.peterfaveroproductive/Desktop/Cornell/Archives/Projects Archive/monte_carlo_preflop_equity_calculator/venv/lib/python3.12/site-packages/tqdm/auto.py:21: TqdmWarning: IProgress not found. Please update jupyter and ipywidgets. See https://ipywidgets.readthedocs.io/en/stable/user_install.html\n",
      "  from .autonotebook import tqdm as notebook_tqdm\n"
     ]
    }
   ],
   "source": [
    "from lib import postflop_equity_monte_carlo, postflop_equity_monte_carlo_parallel\n",
    "import multiprocessing"
   ]
  },
  {
   "cell_type": "markdown",
   "metadata": {},
   "source": [
    "# Simulation"
   ]
  },
  {
   "cell_type": "code",
   "execution_count": 2,
   "metadata": {},
   "outputs": [],
   "source": [
    "hero_hand = \"TsTc\"\n",
    "villain_hand = \"JhTd9c\""
   ]
  },
  {
   "cell_type": "code",
   "execution_count": 3,
   "metadata": {},
   "outputs": [
    {
     "name": "stderr",
     "output_type": "stream",
     "text": [
      "Thread   7/8 | Postflop Monte-Carlo Simulation Progress: 100%|██████████| 1000/1000 [00:01<00:00, 600.26it/s]\n",
      "Thread   1/8 | Postflop Monte-Carlo Simulation Progress: 100%|██████████| 1000/1000 [00:01<00:00, 571.76it/s]\n",
      "Thread   0/8 | Postflop Monte-Carlo Simulation Progress: 100%|██████████| 1000/1000 [00:01<00:00, 568.34it/s]\n",
      "Thread   4/8 | Postflop Monte-Carlo Simulation Progress: 100%|██████████| 1000/1000 [00:01<00:00, 587.36it/s]\n",
      "Thread   6/8 | Postflop Monte-Carlo Simulation Progress: 100%|██████████| 1000/1000 [00:01<00:00, 578.38it/s]\n",
      "Thread   2/8 | Postflop Monte-Carlo Simulation Progress: 100%|██████████| 1000/1000 [00:01<00:00, 562.55it/s]\n",
      "Thread   3/8 | Postflop Monte-Carlo Simulation Progress: 100%|██████████| 1000/1000 [00:01<00:00, 562.59it/s]\n",
      "Thread   5/8 | Postflop Monte-Carlo Simulation Progress: 100%|██████████| 1000/1000 [00:01<00:00, 569.08it/s]\n",
      "Retrieving results from all cores: 100%|██████████| 8/8 [00:02<00:00,  2.97it/s]\n",
      "Combining results from all cores : 100%|██████████| 8/8 [00:00<00:00, 234646.38it/s]\n"
     ]
    }
   ],
   "source": [
    "num_cores = multiprocessing.cpu_count()  \n",
    "num_iterations_per_core = 1_000  \n",
    "equity_dict = postflop_equity_monte_carlo_parallel(hero_hand, villain_hand, num_iterations_per_core, num_cores)"
   ]
  },
  {
   "cell_type": "code",
   "execution_count": 4,
   "metadata": {},
   "outputs": [
    {
     "data": {
      "text/plain": [
       "{'n': 7354, 'equity': 0.8790454174598857}"
      ]
     },
     "execution_count": 4,
     "metadata": {},
     "output_type": "execute_result"
    }
   ],
   "source": [
    "equity_dict[\"AsAd\"]"
   ]
  },
  {
   "cell_type": "code",
   "execution_count": 5,
   "metadata": {},
   "outputs": [
    {
     "data": {
      "text/plain": [
       "{'n': 7359, 'equity': 0.06971055849979617}"
      ]
     },
     "execution_count": 5,
     "metadata": {},
     "output_type": "execute_result"
    }
   ],
   "source": [
    "equity_dict[\"JsJd\"]"
   ]
  }
 ],
 "metadata": {
  "kernelspec": {
   "display_name": "venv",
   "language": "python",
   "name": "python3"
  },
  "language_info": {
   "codemirror_mode": {
    "name": "ipython",
    "version": 3
   },
   "file_extension": ".py",
   "mimetype": "text/x-python",
   "name": "python",
   "nbconvert_exporter": "python",
   "pygments_lexer": "ipython3",
   "version": "3.12.2"
  }
 },
 "nbformat": 4,
 "nbformat_minor": 2
}
