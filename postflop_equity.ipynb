{
 "cells": [
  {
   "cell_type": "markdown",
   "metadata": {},
   "source": [
    "# Setup"
   ]
  },
  {
   "cell_type": "code",
   "execution_count": 14,
   "metadata": {},
   "outputs": [],
   "source": [
    "from lib import postflop_equity_monte_carlo, postflop_equity_monte_carlo_parallel\n",
    "import multiprocessing"
   ]
  },
  {
   "cell_type": "markdown",
   "metadata": {},
   "source": [
    "# Simulation"
   ]
  },
  {
   "cell_type": "code",
   "execution_count": 15,
   "metadata": {},
   "outputs": [],
   "source": [
    "hero_hand = \"8d7d\"\n",
    "board = \"9dTd2c\""
   ]
  },
  {
   "cell_type": "code",
   "execution_count": 16,
   "metadata": {},
   "outputs": [
    {
     "name": "stderr",
     "output_type": "stream",
     "text": [
      "Thread   1/8 | Postflop Monte-Carlo Simulation Progress: 100%|██████████| 10000/10000 [00:16<00:00, 598.06it/s]\n",
      "Thread   2/8 | Postflop Monte-Carlo Simulation Progress: 100%|██████████| 10000/10000 [00:16<00:00, 595.98it/s]\n",
      "Thread   4/8 | Postflop Monte-Carlo Simulation Progress: 100%|██████████| 10000/10000 [00:16<00:00, 594.56it/s]\n",
      "Thread   3/8 | Postflop Monte-Carlo Simulation Progress: 100%|██████████| 10000/10000 [00:16<00:00, 593.91it/s]\n",
      "Thread   0/8 | Postflop Monte-Carlo Simulation Progress: 100%|██████████| 10000/10000 [00:16<00:00, 592.57it/s]\n",
      "Thread   5/8 | Postflop Monte-Carlo Simulation Progress: 100%|██████████| 10000/10000 [00:16<00:00, 593.24it/s]\n",
      "Thread   6/8 | Postflop Monte-Carlo Simulation Progress: 100%|██████████| 10000/10000 [00:16<00:00, 592.34it/s]\n",
      "Thread   7/8 | Postflop Monte-Carlo Simulation Progress: 100%|██████████| 10000/10000 [00:16<00:00, 591.79it/s]\n",
      "Retrieving results from all cores: 100%|██████████| 8/8 [00:17<00:00,  2.17s/it]\n",
      "Combining results from all cores : 100%|██████████| 8/8 [00:00<00:00, 209715.20it/s]\n"
     ]
    }
   ],
   "source": [
    "num_cores = multiprocessing.cpu_count()  \n",
    "num_iterations_per_core = 10_000  \n",
    "equity_dict = postflop_equity_monte_carlo_parallel(hero_hand, board, num_iterations_per_core, num_cores)"
   ]
  },
  {
   "cell_type": "code",
   "execution_count": 17,
   "metadata": {},
   "outputs": [
    {
     "data": {
      "text/plain": [
       "{'n': 73259, 'equity': 0.5624291895876274}"
      ]
     },
     "execution_count": 17,
     "metadata": {},
     "output_type": "execute_result"
    }
   ],
   "source": [
    "equity_dict[\"AsAc\"]"
   ]
  },
  {
   "cell_type": "code",
   "execution_count": 18,
   "metadata": {},
   "outputs": [
    {
     "data": {
      "text/plain": [
       "{'n': 73186, 'equity': 0.5455688246385921}"
      ]
     },
     "execution_count": 18,
     "metadata": {},
     "output_type": "execute_result"
    }
   ],
   "source": [
    "equity_dict[\"QsQc\"]"
   ]
  }
 ],
 "metadata": {
  "kernelspec": {
   "display_name": ".venv",
   "language": "python",
   "name": "python3"
  },
  "language_info": {
   "codemirror_mode": {
    "name": "ipython",
    "version": 3
   },
   "file_extension": ".py",
   "mimetype": "text/x-python",
   "name": "python",
   "nbconvert_exporter": "python",
   "pygments_lexer": "ipython3",
   "version": "3.12.8"
  }
 },
 "nbformat": 4,
 "nbformat_minor": 2
}
