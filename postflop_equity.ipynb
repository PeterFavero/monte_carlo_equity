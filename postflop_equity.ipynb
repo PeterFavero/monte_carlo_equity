{
 "cells": [
  {
   "cell_type": "markdown",
   "metadata": {},
   "source": [
    "# Setup"
   ]
  },
  {
   "cell_type": "code",
   "execution_count": 17,
   "metadata": {},
   "outputs": [],
   "source": [
    "from lib import postflop_equity_monte_carlo, postflop_equity_monte_carlo_parallel\n",
    "import multiprocessing"
   ]
  },
  {
   "cell_type": "markdown",
   "metadata": {},
   "source": [
    "# Simulation"
   ]
  },
  {
   "cell_type": "code",
   "execution_count": 18,
   "metadata": {},
   "outputs": [],
   "source": [
    "hero_hand = \"7s2d\"\n",
    "board = \"JdTd9d\""
   ]
  },
  {
   "cell_type": "code",
   "execution_count": 19,
   "metadata": {},
   "outputs": [
    {
     "name": "stderr",
     "output_type": "stream",
     "text": [
      "Thread   0/8 | Postflop Monte-Carlo Simulation Progress: 100%|██████████| 10000/10000 [00:16<00:00, 611.39it/s]\n",
      "Thread   1/8 | Postflop Monte-Carlo Simulation Progress: 100%|██████████| 10000/10000 [00:16<00:00, 609.72it/s]\n",
      "Thread   6/8 | Postflop Monte-Carlo Simulation Progress: 100%|██████████| 10000/10000 [00:16<00:00, 607.41it/s]\n",
      "Thread   7/8 | Postflop Monte-Carlo Simulation Progress: 100%|██████████| 10000/10000 [00:16<00:00, 607.50it/s]\n",
      "Thread   5/8 | Postflop Monte-Carlo Simulation Progress: 100%|██████████| 10000/10000 [00:16<00:00, 605.75it/s]\n",
      "Thread   2/8 | Postflop Monte-Carlo Simulation Progress: 100%|██████████| 10000/10000 [00:16<00:00, 603.06it/s]\n",
      "Thread   4/8 | Postflop Monte-Carlo Simulation Progress: 100%|██████████| 10000/10000 [00:16<00:00, 600.54it/s]\n",
      "Thread   3/8 | Postflop Monte-Carlo Simulation Progress: 100%|██████████| 10000/10000 [00:16<00:00, 599.81it/s]\n",
      "Retrieving results from all cores: 100%|██████████| 8/8 [00:17<00:00,  2.14s/it]\n",
      "Combining results from all cores : 100%|██████████| 8/8 [00:00<00:00, 286790.02it/s]\n"
     ]
    }
   ],
   "source": [
    "num_cores = multiprocessing.cpu_count()  \n",
    "num_iterations_per_core = 10_000  \n",
    "equity_dict = postflop_equity_monte_carlo_parallel(hero_hand, board, num_iterations_per_core, num_cores)"
   ]
  },
  {
   "cell_type": "code",
   "execution_count": 20,
   "metadata": {},
   "outputs": [
    {
     "data": {
      "text/plain": [
       "{'n': 73290, 'equity': 0.4414585891663256}"
      ]
     },
     "execution_count": 20,
     "metadata": {},
     "output_type": "execute_result"
    }
   ],
   "source": [
    "equity_dict[\"AsAc\"]"
   ]
  },
  {
   "cell_type": "code",
   "execution_count": 21,
   "metadata": {},
   "outputs": [
    {
     "data": {
      "text/plain": [
       "{'n': 73263, 'equity': 0.3331968387862905}"
      ]
     },
     "execution_count": 21,
     "metadata": {},
     "output_type": "execute_result"
    }
   ],
   "source": [
    "equity_dict[\"JsJc\"]"
   ]
  }
 ],
 "metadata": {
  "kernelspec": {
   "display_name": "venv",
   "language": "python",
   "name": "python3"
  },
  "language_info": {
   "codemirror_mode": {
    "name": "ipython",
    "version": 3
   },
   "file_extension": ".py",
   "mimetype": "text/x-python",
   "name": "python",
   "nbconvert_exporter": "python",
   "pygments_lexer": "ipython3",
   "version": "3.12.8"
  }
 },
 "nbformat": 4,
 "nbformat_minor": 2
}
