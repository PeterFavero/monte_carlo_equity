{
 "cells": [
  {
   "cell_type": "markdown",
   "metadata": {},
   "source": [
    "# Setup"
   ]
  },
  {
   "cell_type": "code",
   "execution_count": 1,
   "metadata": {},
   "outputs": [
    {
     "name": "stderr",
     "output_type": "stream",
     "text": [
      "/Users/pf-admin/Desktop/Notebook/projects/monte_carlo_equity_calculator/venv/lib/python3.12/site-packages/tqdm/auto.py:21: TqdmWarning: IProgress not found. Please update jupyter and ipywidgets. See https://ipywidgets.readthedocs.io/en/stable/user_install.html\n",
      "  from .autonotebook import tqdm as notebook_tqdm\n"
     ]
    }
   ],
   "source": [
    "from lib import postflop_equity_monte_carlo, postflop_equity_monte_carlo_parallel\n",
    "import multiprocessing"
   ]
  },
  {
   "cell_type": "markdown",
   "metadata": {},
   "source": [
    "# Simulation"
   ]
  },
  {
   "cell_type": "code",
   "execution_count": 2,
   "metadata": {},
   "outputs": [],
   "source": [
    "hero_hand = \"TsTc\"\n",
    "villain_hand = \"JhTd9c\""
   ]
  },
  {
   "cell_type": "code",
   "execution_count": 3,
   "metadata": {},
   "outputs": [
    {
     "name": "stderr",
     "output_type": "stream",
     "text": [
      "Thread   1/8 | Postflop Monte-Carlo Simulation Progress: 100%|██████████| 1000/1000 [00:01<00:00, 577.51it/s]\n",
      "Thread   3/8 | Postflop Monte-Carlo Simulation Progress: 100%|██████████| 1000/1000 [00:01<00:00, 594.86it/s]\n",
      "Thread   0/8 | Postflop Monte-Carlo Simulation Progress: 100%|██████████| 1000/1000 [00:01<00:00, 581.49it/s]\n",
      "Thread   4/8 | Postflop Monte-Carlo Simulation Progress: 100%|██████████| 1000/1000 [00:01<00:00, 579.86it/s]\n",
      "Thread   2/8 | Postflop Monte-Carlo Simulation Progress: 100%|██████████| 1000/1000 [00:01<00:00, 562.94it/s]\n",
      "Thread   5/8 | Postflop Monte-Carlo Simulation Progress: 100%|██████████| 1000/1000 [00:01<00:00, 542.59it/s]\n",
      "Thread   6/8 | Postflop Monte-Carlo Simulation Progress: 100%|██████████| 1000/1000 [00:01<00:00, 549.97it/s]\n",
      "Thread   7/8 | Postflop Monte-Carlo Simulation Progress: 100%|██████████| 1000/1000 [00:01<00:00, 540.19it/s]\n",
      "Retrieving results from all cores: 100%|██████████| 8/8 [00:02<00:00,  3.37it/s]\n",
      "Combining results from all cores : 100%|██████████| 8/8 [00:00<00:00, 174762.67it/s]\n"
     ]
    }
   ],
   "source": [
    "num_cores = multiprocessing.cpu_count()  \n",
    "num_iterations_per_core = 1_000  \n",
    "equity_dict = postflop_equity_monte_carlo_parallel(hero_hand, villain_hand, num_iterations_per_core, num_cores)"
   ]
  },
  {
   "cell_type": "code",
   "execution_count": 4,
   "metadata": {},
   "outputs": [
    {
     "data": {
      "text/plain": [
       "{'n': 7338, 'equity': 0.878440992095939}"
      ]
     },
     "execution_count": 4,
     "metadata": {},
     "output_type": "execute_result"
    }
   ],
   "source": [
    "equity_dict[\"AsAd\"]"
   ]
  },
  {
   "cell_type": "code",
   "execution_count": 5,
   "metadata": {},
   "outputs": [
    {
     "data": {
      "text/plain": [
       "{'n': 7316, 'equity': 0.06793329688354292}"
      ]
     },
     "execution_count": 5,
     "metadata": {},
     "output_type": "execute_result"
    }
   ],
   "source": [
    "equity_dict[\"JsJd\"]"
   ]
  }
 ],
 "metadata": {
  "kernelspec": {
   "display_name": "venv",
   "language": "python",
   "name": "python3"
  },
  "language_info": {
   "codemirror_mode": {
    "name": "ipython",
    "version": 3
   },
   "file_extension": ".py",
   "mimetype": "text/x-python",
   "name": "python",
   "nbconvert_exporter": "python",
   "pygments_lexer": "ipython3",
   "version": "3.12.8"
  }
 },
 "nbformat": 4,
 "nbformat_minor": 2
}
