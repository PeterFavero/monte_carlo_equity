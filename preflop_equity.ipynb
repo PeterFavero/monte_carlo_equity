{
 "cells": [
  {
   "cell_type": "markdown",
   "metadata": {},
   "source": [
    "# Simulation"
   ]
  },
  {
   "cell_type": "code",
   "execution_count": 2,
   "metadata": {},
   "outputs": [
    {
     "ename": "ImportError",
     "evalue": "cannot import name 'plot_preflop_equity_matrix' from 'lib' (/Users/pf-admin/Desktop/Notebook/python/poker-tools/lib.py)",
     "output_type": "error",
     "traceback": [
      "\u001b[0;31m---------------------------------------------------------------------------\u001b[0m",
      "\u001b[0;31mImportError\u001b[0m                               Traceback (most recent call last)",
      "Cell \u001b[0;32mIn[2], line 1\u001b[0m\n\u001b[0;32m----> 1\u001b[0m \u001b[38;5;28;01mfrom\u001b[39;00m\u001b[38;5;250m \u001b[39m\u001b[38;5;21;01mlib\u001b[39;00m\u001b[38;5;250m \u001b[39m\u001b[38;5;28;01mimport\u001b[39;00m RANKS, SUITS, calculate_preflop_equity_monte_carlo, plot_preflop_equity_matrix\n\u001b[1;32m      2\u001b[0m \u001b[38;5;28;01mimport\u001b[39;00m\u001b[38;5;250m \u001b[39m\u001b[38;5;21;01mjoblib\u001b[39;00m\n",
      "\u001b[0;31mImportError\u001b[0m: cannot import name 'plot_preflop_equity_matrix' from 'lib' (/Users/pf-admin/Desktop/Notebook/python/poker-tools/lib.py)"
     ]
    }
   ],
   "source": [
    "from lib import RANKS, SUITS, calculate_preflop_equity_monte_carlo, plot_preflop_equity_matrix\n",
    "import joblib"
   ]
  },
  {
   "cell_type": "code",
   "execution_count": 2,
   "metadata": {},
   "outputs": [],
   "source": [
    "hero_hands = []\n",
    "\n",
    "for i in range(13):\n",
    "    for j in range(i,13):\n",
    "        hero_hands.append(f\"{RANKS[j]}s{RANKS[i]}c\")\n",
    "        if i != j:\n",
    "            hero_hands.append(f\"{RANKS[j]}s{RANKS[i]}s\")"
   ]
  },
  {
   "cell_type": "code",
   "execution_count": 3,
   "metadata": {},
   "outputs": [],
   "source": [
    "# preflop_equity_dict = calculate_preflop_equity_monte_carlo(hero_hands, num_iterations=10_000_000)\n",
    "# joblib.dump(preflop_equity_dict, \"preflop_equity_dict.joblib\")"
   ]
  },
  {
   "cell_type": "markdown",
   "metadata": {},
   "source": [
    "# Plotting"
   ]
  },
  {
   "cell_type": "code",
   "execution_count": 4,
   "metadata": {},
   "outputs": [],
   "source": [
    "preflop_equity_dict = joblib.load(\"files/preflop_equity_dict.joblib\")"
   ]
  },
  {
   "cell_type": "code",
   "execution_count": null,
   "metadata": {},
   "outputs": [],
   "source": [
    "plot_preflop_equity_matrix(\"QQ\", preflop_equity_dict)"
   ]
  },
  {
   "cell_type": "code",
   "execution_count": null,
   "metadata": {},
   "outputs": [],
   "source": [
    "plot_preflop_equity_matrix(\"TT\", preflop_equity_dict)"
   ]
  },
  {
   "cell_type": "code",
   "execution_count": null,
   "metadata": {},
   "outputs": [],
   "source": [
    "plot_preflop_equity_matrix(\"99\", preflop_equity_dict)"
   ]
  },
  {
   "cell_type": "code",
   "execution_count": null,
   "metadata": {},
   "outputs": [],
   "source": [
    "plot_preflop_equity_matrix(\"AKo\", preflop_equity_dict)"
   ]
  }
 ],
 "metadata": {
  "kernelspec": {
   "display_name": ".venv",
   "language": "python",
   "name": "python3"
  },
  "language_info": {
   "codemirror_mode": {
    "name": "ipython",
    "version": 3
   },
   "file_extension": ".py",
   "mimetype": "text/x-python",
   "name": "python",
   "nbconvert_exporter": "python",
   "pygments_lexer": "ipython3",
   "version": "3.12.8"
  }
 },
 "nbformat": 4,
 "nbformat_minor": 2
}
